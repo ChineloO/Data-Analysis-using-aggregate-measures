{
 "cells": [
  {
   "cell_type": "markdown",
   "id": "f7aabb4d",
   "metadata": {},
   "source": [
    "# A/B Testing for ShoeFly.com\n",
    "\n",
    "ShoeFly.com is performing an A/B Test. They have two different versions of an ad, which they have placed in emails, as well as in banner ads on Facebook, Twitter, and Google. \n",
    "\n",
    "This is an analysis of the data(using aggregate measures) to show the two ads are performing on each of the different platforms on each day of the week."
   ]
  },
  {
   "cell_type": "code",
   "execution_count": null,
   "id": "90b6a7d0",
   "metadata": {},
   "outputs": [],
   "source": [
    "import codecademylib3\n",
    "import pandas as pd\n",
    "\n",
    "ad_clicks = pd.read_csv('ad_clicks.csv')\n",
    "\n",
    "#How many views (i.e., rows of the table) came from each utm_source?\n",
    "utm_count = ad_clicks.groupby('utm_source').day.count().reset_index()\n",
    "\n",
    "#new column called is_click, which is True if ad_click_timestamp is not null and False otherwise.\n",
    "ad_clicks['is_click'] = ~ad_clicks.ad_click_timestamp.isnull()\n",
    "\n",
    "#group by utm_source and is_click and count the number of user_id‘s in each of those groups. \n",
    "clicks_by_source = ad_clicks.groupby(['utm_source','is_click']).user_id.count().reset_index()\n",
    "\n",
    "#pivot the data\n",
    "clicks_pivot = clicks_by_source.pivot(columns='is_click',index='utm_source',values='user_id')\n",
    "\n",
    "#new column in clicks_pivot called percent_clicked(percent of users who clicked on the ad from each utm_source)\n",
    "clicks_pivot['percent_clicked'] = clicks_pivot[True] / (clicks_pivot[True] + clicks_pivot[False])  \n",
    "\n",
    "#number of people shown both ads\n",
    "ad_AB = ad_clicks.groupby('experimental_group').user_id.count().reset_index()\n",
    "ad_AB_clicks = ad_clicks.groupby(['experimental_group','is_click']).user_id.count().reset_index()\n",
    "\n",
    "#pivot the data\n",
    "ad_AB_clicks_pivot = ad_AB_clicks.pivot(columns='experimental_group', index='is_click',values='user_id')\n",
    "\n",
    "#two DataFrames: a_clicks and b_clicks, which contain only the results for A group and B group, respectively.\n",
    "a_clicks = ad_clicks[ad_clicks.experimental_group == 'A']\n",
    "b_clicks = ad_clicks[ad_clicks.experimental_group == 'B']\n",
    "\n",
    "#percent of users who clicked on the ad by day(For each group - a_clicks and b_clicks).\n",
    "a_clicks['percent_clicked'] = (a_clicks.is_click == True)/ a_clicks.is_click.count() \n",
    "b_clicks['percent_clicked'] = (b_clicks.is_click == True)/ b_clicks.is_click.count() \n",
    "\n",
    "#percent clicked by the day of the week\n",
    "A_clicks = a_clicks.groupby(['is_click','day']).percent_clicked.count().reset_index()\n",
    "B_clicks = b_clicks.groupby(['is_click','day']).percent_clicked.count().reset_index()\n",
    "\n",
    "#pivot the data\n",
    "A_clicks_pivot = A_clicks.pivot(columns='day', index='is_click',values='percent_clicked')\n",
    "B_clicks_pivot = B_clicks.pivot(columns='day', index='is_click',values='percent_clicked')\n",
    "\n"
   ]
  }
 ],
 "metadata": {
  "kernelspec": {
   "display_name": "Python 3",
   "language": "python",
   "name": "python3"
  },
  "language_info": {
   "codemirror_mode": {
    "name": "ipython",
    "version": 3
   },
   "file_extension": ".py",
   "mimetype": "text/x-python",
   "name": "python",
   "nbconvert_exporter": "python",
   "pygments_lexer": "ipython3",
   "version": "3.8.8"
  }
 },
 "nbformat": 4,
 "nbformat_minor": 5
}
